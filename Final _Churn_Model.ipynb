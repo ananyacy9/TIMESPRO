{
 "cells": [
  {
   "cell_type": "code",
   "execution_count": 1,
   "metadata": {},
   "outputs": [
    {
     "name": "stdout",
     "output_type": "stream",
     "text": [
      "   Account_Length  Vmail_Message  Day_Mins  Eve_Mins  Night_Mins  Intl_Mins  \\\n",
      "0             128             25     265.1     197.4       244.7       10.0   \n",
      "1             107             26     161.6     195.5       254.4       13.7   \n",
      "2             137              0     243.4     121.2       162.6       12.2   \n",
      "3              84              0     299.4      61.9       196.9        6.6   \n",
      "4              75              0     166.7     148.3       186.9       10.1   \n",
      "\n",
      "   CustServ_Calls Churn Intl_Plan Vmail_Plan  ...  Day_Charge  Eve_Calls  \\\n",
      "0               1    no        no        yes  ...       45.07         99   \n",
      "1               1    no        no        yes  ...       27.47        103   \n",
      "2               0    no        no         no  ...       41.38        110   \n",
      "3               2    no       yes         no  ...       50.90         88   \n",
      "4               3    no       yes         no  ...       28.34        122   \n",
      "\n",
      "   Eve_Charge  Night_Calls  Night_Charge  Intl_Calls  Intl_Charge  State  \\\n",
      "0       16.78           91         11.01           3         2.70     KS   \n",
      "1       16.62          103         11.45           3         3.70     OH   \n",
      "2       10.30          104          7.32           5         3.29     NJ   \n",
      "3        5.26           89          8.86           7         1.78     OH   \n",
      "4       12.61          121          8.41           3         2.73     OK   \n",
      "\n",
      "  Area_Code     Phone  \n",
      "0       415  382-4657  \n",
      "1       415  371-7191  \n",
      "2       415  358-1921  \n",
      "3       408  375-9999  \n",
      "4       415  330-6626  \n",
      "\n",
      "[5 rows x 21 columns]\n",
      "       Account_Length  Vmail_Message    Day_Mins    Eve_Mins  Night_Mins  \\\n",
      "Churn                                                                      \n",
      "no         100.793684       8.604561  175.175754  199.043298  200.133193   \n",
      "yes        102.664596       5.115942  206.914079  212.410145  205.231677   \n",
      "\n",
      "       Intl_Mins  CustServ_Calls   Day_Calls  Day_Charge   Eve_Calls  \\\n",
      "Churn                                                                  \n",
      "no     10.158877        1.449825  100.283158   29.780421  100.038596   \n",
      "yes    10.700000        2.229814  101.335404   35.175921  100.561077   \n",
      "\n",
      "       Eve_Charge  Night_Calls  Night_Charge  Intl_Calls  Intl_Charge  \\\n",
      "Churn                                                                   \n",
      "no      16.918909   100.058246      9.006074    4.532982     2.743404   \n",
      "yes     18.054969   100.399586      9.235528    4.163561     2.889545   \n",
      "\n",
      "        Area_Code  \n",
      "Churn              \n",
      "no     437.074737  \n",
      "yes    437.817805  \n",
      "       Account_Length  Vmail_Message   Day_Mins   Eve_Mins  Night_Mins  \\\n",
      "Churn                                                                    \n",
      "no           39.88235      13.913125  50.181655  50.292175   51.105032   \n",
      "yes          39.46782      11.860138  68.997792  51.728910   47.132825   \n",
      "\n",
      "       Intl_Mins  CustServ_Calls  Day_Calls  Day_Charge  Eve_Calls  \\\n",
      "Churn                                                                \n",
      "no      2.784489        1.163883  19.801157    8.530835  19.958414   \n",
      "yes     2.793190        1.853275  21.582307   11.729710  19.724711   \n",
      "\n",
      "       Eve_Charge  Night_Calls  Night_Charge  Intl_Calls  Intl_Charge  \\\n",
      "Churn                                                                   \n",
      "no       4.274863    19.506246      2.299768    2.441984     0.751784   \n",
      "yes      4.396762    19.950659      2.121081    2.551575     0.754152   \n",
      "\n",
      "       Area_Code  \n",
      "Churn             \n",
      "no     42.306156  \n",
      "yes    42.792270  \n",
      "State  Churn\n",
      "AK     no       49\n",
      "       yes       3\n",
      "AL     no       72\n",
      "       yes       8\n",
      "AR     no       44\n",
      "                ..\n",
      "WI     yes       7\n",
      "WV     no       96\n",
      "       yes      10\n",
      "WY     no       68\n",
      "       yes       9\n",
      "Name: Churn, Length: 102, dtype: int64\n"
     ]
    }
   ],
   "source": [
    "import numpy as np\n",
    "import pandas as pd\n",
    "telco= pd.read_csv('Churn.csv')\n",
    "print(telco.head())\n",
    "#EDA\n",
    "print(telco.groupby(['Churn']).mean())\n",
    "print(telco.groupby(['Churn']).std())\n",
    "print(telco.groupby('State')['Churn'].value_counts())"
   ]
  },
  {
   "cell_type": "code",
   "execution_count": 2,
   "metadata": {},
   "outputs": [
    {
     "data": {
      "text/plain": [
       "(3333, 21)"
      ]
     },
     "execution_count": 2,
     "metadata": {},
     "output_type": "execute_result"
    }
   ],
   "source": [
    "telco.shape"
   ]
  },
  {
   "cell_type": "code",
   "execution_count": 3,
   "metadata": {},
   "outputs": [
    {
     "data": {
      "text/plain": [
       "Account_Length      int64\n",
       "Vmail_Message       int64\n",
       "Day_Mins          float64\n",
       "Eve_Mins          float64\n",
       "Night_Mins        float64\n",
       "Intl_Mins         float64\n",
       "CustServ_Calls      int64\n",
       "Churn              object\n",
       "Intl_Plan          object\n",
       "Vmail_Plan         object\n",
       "Day_Calls           int64\n",
       "Day_Charge        float64\n",
       "Eve_Calls           int64\n",
       "Eve_Charge        float64\n",
       "Night_Calls         int64\n",
       "Night_Charge      float64\n",
       "Intl_Calls          int64\n",
       "Intl_Charge       float64\n",
       "State              object\n",
       "Area_Code           int64\n",
       "Phone              object\n",
       "dtype: object"
      ]
     },
     "execution_count": 3,
     "metadata": {},
     "output_type": "execute_result"
    }
   ],
   "source": [
    "telco.dtypes"
   ]
  },
  {
   "cell_type": "code",
   "execution_count": 4,
   "metadata": {},
   "outputs": [
    {
     "data": {
      "text/plain": [
       "Account_Length    0\n",
       "Vmail_Message     0\n",
       "Day_Mins          0\n",
       "Eve_Mins          0\n",
       "Night_Mins        0\n",
       "Intl_Mins         0\n",
       "CustServ_Calls    0\n",
       "Churn             0\n",
       "Intl_Plan         0\n",
       "Vmail_Plan        0\n",
       "Day_Calls         0\n",
       "Day_Charge        0\n",
       "Eve_Calls         0\n",
       "Eve_Charge        0\n",
       "Night_Calls       0\n",
       "Night_Charge      0\n",
       "Intl_Calls        0\n",
       "Intl_Charge       0\n",
       "State             0\n",
       "Area_Code         0\n",
       "Phone             0\n",
       "dtype: int64"
      ]
     },
     "execution_count": 4,
     "metadata": {},
     "output_type": "execute_result"
    }
   ],
   "source": [
    "telco.isnull().sum()"
   ]
  },
  {
   "cell_type": "code",
   "execution_count": 5,
   "metadata": {},
   "outputs": [],
   "source": [
    "#Note: All of these features appear to be well approximated by the normal distribution. \n",
    "#If this were not the case, we would have to consider applying a feature transformation of some kind."
   ]
  },
  {
   "cell_type": "code",
   "execution_count": 6,
   "metadata": {},
   "outputs": [
    {
     "name": "stderr",
     "output_type": "stream",
     "text": [
      "C:\\ProgramData\\Anaconda3\\lib\\site-packages\\statsmodels\\tools\\_testing.py:19: FutureWarning: pandas.util.testing is deprecated. Use the functions in the public API at pandas.testing instead.\n",
      "  import pandas.util.testing as tm\n"
     ]
    },
    {
     "data": {
      "text/plain": [
       "<Figure size 640x480 with 1 Axes>"
      ]
     },
     "metadata": {},
     "output_type": "display_data"
    }
   ],
   "source": [
    "# Import matplotlib and seaborn\n",
    "import matplotlib.pyplot as plt\n",
    "import seaborn as sns\n",
    "\n",
    "# Visualize the distribution of 'Day_Mins'\n",
    "sns.distplot(telco['Day_Mins'])\n",
    "\n",
    "# Display the plot\n",
    "plt.show()\n"
   ]
  },
  {
   "cell_type": "code",
   "execution_count": 7,
   "metadata": {},
   "outputs": [
    {
     "data": {
      "image/png": "[encoded data removed]",
      "text/plain": [
       "<Figure size 432x288 with 1 Axes>"
      ]
     },
     "metadata": {
      "needs_background": "light"
     },
     "output_type": "display_data"
    }
   ],
   "source": [
    "# Visualize the distribution of 'Eve_Mins'\n",
    "sns.distplot(telco['Eve_Mins'])\n",
    "\n",
    "# Display the plot\n",
    "plt.show()"
   ]
  },
  {
   "cell_type": "code",
   "execution_count": 8,
   "metadata": {},
   "outputs": [
    {
     "data": {
      "image/png": "[encoded data removed]",
      "text/plain": [
       "<Figure size 432x288 with 1 Axes>"
      ]
     },
     "metadata": {
      "needs_background": "light"
     },
     "output_type": "display_data"
    }
   ],
   "source": [
    "# Visualize the distribution of 'Night_Mins'\n",
    "sns.distplot(telco['Night_Mins'])\n",
    "\n",
    "# Display the plot\n",
    "plt.show()"
   ]
  },
  {
   "cell_type": "code",
   "execution_count": 9,
   "metadata": {},
   "outputs": [
    {
     "data": {
      "image/png": "[encoded data removed]",
      "text/plain": [
       "<Figure size 432x288 with 1 Axes>"
      ]
     },
     "metadata": {
      "needs_background": "light"
     },
     "output_type": "display_data"
    }
   ],
   "source": [
    "# Visualize the distribution of 'Intl_Mins'\n",
    "sns.distplot(telco['Intl_Mins'])\n",
    "\n",
    "# Display the plot\n",
    "plt.show()"
   ]
  },
  {
   "cell_type": "code",
   "execution_count": 10,
   "metadata": {},
   "outputs": [
    {
     "data": {
      "image/png": "[encoded data removed]",
      "text/plain": [
       "<Figure size 432x288 with 1 Axes>"
      ]
     },
     "metadata": {
      "needs_background": "light"
     },
     "output_type": "display_data"
    }
   ],
   "source": [
    "# Create the box plot\n",
    "#Removed Outliers by adding sym\n",
    "#  hue parameter used to specify the third variable.\n",
    "sns.boxplot(x = 'Churn',\n",
    "            y = 'CustServ_Calls',\n",
    "            data = telco,\n",
    "            sym = \"\",\n",
    "            hue = \"Intl_Plan\")\n",
    "\n",
    "\n",
    "# Display the plot\n",
    "plt.show()"
   ]
  },
  {
   "cell_type": "code",
   "execution_count": 11,
   "metadata": {},
   "outputs": [],
   "source": [
    "#There are some very interesting insights here. It looks like customers who do churn end up leaving more customer service calls, unless these customers also have an international plan, in which case they leave fewer customer service calls. This type of information is really useful in better understanding the drivers of churn. It's now time to learn about how to preprocess your data prior to modeling."
   ]
  },
  {
   "cell_type": "markdown",
   "metadata": {},
   "source": [
    "# Data Preparation"
   ]
  },
  {
   "cell_type": "code",
   "execution_count": 12,
   "metadata": {},
   "outputs": [
    {
     "name": "stdout",
     "output_type": "stream",
     "text": [
      "0    1\n",
      "1    1\n",
      "2    0\n",
      "3    0\n",
      "4    0\n",
      "Name: Vmail_Plan, dtype: int64\n",
      "0    0\n",
      "1    0\n",
      "2    0\n",
      "3    0\n",
      "4    0\n",
      "Name: Churn, dtype: int64\n",
      "0    0\n",
      "1    0\n",
      "2    0\n",
      "3    1\n",
      "4    1\n",
      "Name: Intl_Plan, dtype: int64\n"
     ]
    }
   ],
   "source": [
    "#Identifying features to convert\n",
    "#Churn, Vmail_Plan, and Intl_Plan, in particular, are binary features that can easily be converted into 0s and 1s. \n",
    "# Replace 'no' with 0 and 'yes' with 1 in 'Vmail_Plan'\n",
    "telco['Vmail_Plan'] = telco['Vmail_Plan'].replace({'no': 0 , 'yes': 1})\n",
    "\n",
    "# Replace 'no' with 0 and 'yes' with 1 in 'Churn'\n",
    "telco['Churn'] = telco['Churn'].replace({'no': 0 , 'yes': 1})\n",
    "\n",
    "telco['Intl_Plan'] = telco['Intl_Plan'].replace({'no': 0 , 'yes': 1})\n",
    "\n",
    "# Print the results to verify\n",
    "print(telco['Vmail_Plan'].head())\n",
    "print(telco['Churn'].head())\n",
    "print(telco['Intl_Plan'].head())"
   ]
  },
  {
   "cell_type": "code",
   "execution_count": 13,
   "metadata": {},
   "outputs": [
    {
     "name": "stdout",
     "output_type": "stream",
     "text": [
      "      AK  AL  AR  AZ  CA  CO  CT  DC  DE  FL  ...  SD  TN  TX  UT  VA  VT  WA  \\\n",
      "0      0   0   0   0   0   0   0   0   0   0  ...   0   0   0   0   0   0   0   \n",
      "1      0   0   0   0   0   0   0   0   0   0  ...   0   0   0   0   0   0   0   \n",
      "2      0   0   0   0   0   0   0   0   0   0  ...   0   0   0   0   0   0   0   \n",
      "3      0   0   0   0   0   0   0   0   0   0  ...   0   0   0   0   0   0   0   \n",
      "4      0   0   0   0   0   0   0   0   0   0  ...   0   0   0   0   0   0   0   \n",
      "...   ..  ..  ..  ..  ..  ..  ..  ..  ..  ..  ...  ..  ..  ..  ..  ..  ..  ..   \n",
      "3328   0   0   0   1   0   0   0   0   0   0  ...   0   0   0   0   0   0   0   \n",
      "3329   0   0   0   0   0   0   0   0   0   0  ...   0   0   0   0   0   0   0   \n",
      "3330   0   0   0   0   0   0   0   0   0   0  ...   0   0   0   0   0   0   0   \n",
      "3331   0   0   0   0   0   0   1   0   0   0  ...   0   0   0   0   0   0   0   \n",
      "3332   0   0   0   0   0   0   0   0   0   0  ...   0   1   0   0   0   0   0   \n",
      "\n",
      "      WI  WV  WY  \n",
      "0      0   0   0  \n",
      "1      0   0   0  \n",
      "2      0   0   0  \n",
      "3      0   0   0  \n",
      "4      0   0   0  \n",
      "...   ..  ..  ..  \n",
      "3328   0   0   0  \n",
      "3329   0   1   0  \n",
      "3330   0   0   0  \n",
      "3331   0   0   0  \n",
      "3332   0   0   0  \n",
      "\n",
      "[3333 rows x 51 columns]\n"
     ]
    }
   ],
   "source": [
    "\n",
    "# Perform one hot encoding on 'State'\n",
    "telco_state = pd.get_dummies(telco['State'])\n",
    "print(telco_state)"
   ]
  },
  {
   "cell_type": "code",
   "execution_count": 14,
   "metadata": {},
   "outputs": [
    {
     "name": "stdout",
     "output_type": "stream",
     "text": [
      "   AK  AL  AR  AZ  CA  CO  CT  DC  DE  FL  ...  SD  TN  TX  UT  VA  VT  WA  \\\n",
      "0   0   0   0   0   0   0   0   0   0   0  ...   0   0   0   0   0   0   0   \n",
      "1   0   0   0   0   0   0   0   0   0   0  ...   0   0   0   0   0   0   0   \n",
      "2   0   0   0   0   0   0   0   0   0   0  ...   0   0   0   0   0   0   0   \n",
      "3   0   0   0   0   0   0   0   0   0   0  ...   0   0   0   0   0   0   0   \n",
      "4   0   0   0   0   0   0   0   0   0   0  ...   0   0   0   0   0   0   0   \n",
      "\n",
      "   WI  WV  WY  \n",
      "0   0   0   0  \n",
      "1   0   0   0  \n",
      "2   0   0   0  \n",
      "3   0   0   0  \n",
      "4   0   0   0  \n",
      "\n",
      "[5 rows x 51 columns]\n"
     ]
    }
   ],
   "source": [
    "# Perform one hot encoding on 'State'\n",
    "telco_state = pd.get_dummies(telco['State'])\n",
    "\n",
    "# Print the head of telco_state\n",
    "print(telco_state.head())\n",
    "telco['State']=telco_state"
   ]
  },
  {
   "cell_type": "code",
   "execution_count": 15,
   "metadata": {},
   "outputs": [
    {
     "data": {
      "text/plain": [
       "Account_Length      int64\n",
       "Vmail_Message       int64\n",
       "Day_Mins          float64\n",
       "Eve_Mins          float64\n",
       "Night_Mins        float64\n",
       "Intl_Mins         float64\n",
       "CustServ_Calls      int64\n",
       "Churn               int64\n",
       "Intl_Plan           int64\n",
       "Vmail_Plan          int64\n",
       "Day_Calls           int64\n",
       "Day_Charge        float64\n",
       "Eve_Calls           int64\n",
       "Eve_Charge        float64\n",
       "Night_Calls         int64\n",
       "Night_Charge      float64\n",
       "Intl_Calls          int64\n",
       "Intl_Charge       float64\n",
       "State               uint8\n",
       "Area_Code           int64\n",
       "Phone              object\n",
       "dtype: object"
      ]
     },
     "execution_count": 15,
     "metadata": {},
     "output_type": "execute_result"
    }
   ],
   "source": [
    "telco.dtypes"
   ]
  },
  {
   "cell_type": "code",
   "execution_count": 16,
   "metadata": {},
   "outputs": [],
   "source": [
    "#This creates an entirely new DataFrame. It can be merged to original telco DataFrame, now we should consider dropping any that are unnecessary."
   ]
  },
  {
   "cell_type": "code",
   "execution_count": 17,
   "metadata": {},
   "outputs": [
    {
     "data": {
      "text/html": [
       "<div>\n",
       "<style scoped>\n",
       "    .dataframe tbody tr th:only-of-type {\n",
       "        vertical-align: middle;\n",
       "    }\n",
       "\n",
       "    .dataframe tbody tr th {\n",
       "        vertical-align: top;\n",
       "    }\n",
       "\n",
       "    .dataframe thead th {\n",
       "        text-align: right;\n",
       "    }\n",
       "</style>\n",
       "<table border=\"1\" class=\"dataframe\">\n",
       "  <thead>\n",
       "    <tr style=\"text-align: right;\">\n",
       "      <th></th>\n",
       "      <th>Account_Length</th>\n",
       "      <th>Vmail_Message</th>\n",
       "      <th>Day_Mins</th>\n",
       "      <th>Eve_Mins</th>\n",
       "      <th>Night_Mins</th>\n",
       "      <th>Intl_Mins</th>\n",
       "      <th>CustServ_Calls</th>\n",
       "      <th>Churn</th>\n",
       "      <th>Intl_Plan</th>\n",
       "      <th>Vmail_Plan</th>\n",
       "      <th>...</th>\n",
       "      <th>Day_Charge</th>\n",
       "      <th>Eve_Calls</th>\n",
       "      <th>Eve_Charge</th>\n",
       "      <th>Night_Calls</th>\n",
       "      <th>Night_Charge</th>\n",
       "      <th>Intl_Calls</th>\n",
       "      <th>Intl_Charge</th>\n",
       "      <th>State</th>\n",
       "      <th>Area_Code</th>\n",
       "      <th>Phone</th>\n",
       "    </tr>\n",
       "  </thead>\n",
       "  <tbody>\n",
       "    <tr>\n",
       "      <th>0</th>\n",
       "      <td>128</td>\n",
       "      <td>25</td>\n",
       "      <td>265.1</td>\n",
       "      <td>197.4</td>\n",
       "      <td>244.7</td>\n",
       "      <td>10.0</td>\n",
       "      <td>1</td>\n",
       "      <td>0</td>\n",
       "      <td>0</td>\n",
       "      <td>1</td>\n",
       "      <td>...</td>\n",
       "      <td>45.07</td>\n",
       "      <td>99</td>\n",
       "      <td>16.78</td>\n",
       "      <td>91</td>\n",
       "      <td>11.01</td>\n",
       "      <td>3</td>\n",
       "      <td>2.70</td>\n",
       "      <td>0</td>\n",
       "      <td>415</td>\n",
       "      <td>382-4657</td>\n",
       "    </tr>\n",
       "    <tr>\n",
       "      <th>1</th>\n",
       "      <td>107</td>\n",
       "      <td>26</td>\n",
       "      <td>161.6</td>\n",
       "      <td>195.5</td>\n",
       "      <td>254.4</td>\n",
       "      <td>13.7</td>\n",
       "      <td>1</td>\n",
       "      <td>0</td>\n",
       "      <td>0</td>\n",
       "      <td>1</td>\n",
       "      <td>...</td>\n",
       "      <td>27.47</td>\n",
       "      <td>103</td>\n",
       "      <td>16.62</td>\n",
       "      <td>103</td>\n",
       "      <td>11.45</td>\n",
       "      <td>3</td>\n",
       "      <td>3.70</td>\n",
       "      <td>0</td>\n",
       "      <td>415</td>\n",
       "      <td>371-7191</td>\n",
       "    </tr>\n",
       "    <tr>\n",
       "      <th>2</th>\n",
       "      <td>137</td>\n",
       "      <td>0</td>\n",
       "      <td>243.4</td>\n",
       "      <td>121.2</td>\n",
       "      <td>162.6</td>\n",
       "      <td>12.2</td>\n",
       "      <td>0</td>\n",
       "      <td>0</td>\n",
       "      <td>0</td>\n",
       "      <td>0</td>\n",
       "      <td>...</td>\n",
       "      <td>41.38</td>\n",
       "      <td>110</td>\n",
       "      <td>10.30</td>\n",
       "      <td>104</td>\n",
       "      <td>7.32</td>\n",
       "      <td>5</td>\n",
       "      <td>3.29</td>\n",
       "      <td>0</td>\n",
       "      <td>415</td>\n",
       "      <td>358-1921</td>\n",
       "    </tr>\n",
       "    <tr>\n",
       "      <th>3</th>\n",
       "      <td>84</td>\n",
       "      <td>0</td>\n",
       "      <td>299.4</td>\n",
       "      <td>61.9</td>\n",
       "      <td>196.9</td>\n",
       "      <td>6.6</td>\n",
       "      <td>2</td>\n",
       "      <td>0</td>\n",
       "      <td>1</td>\n",
       "      <td>0</td>\n",
       "      <td>...</td>\n",
       "      <td>50.90</td>\n",
       "      <td>88</td>\n",
       "      <td>5.26</td>\n",
       "      <td>89</td>\n",
       "      <td>8.86</td>\n",
       "      <td>7</td>\n",
       "      <td>1.78</td>\n",
       "      <td>0</td>\n",
       "      <td>408</td>\n",
       "      <td>375-9999</td>\n",
       "    </tr>\n",
       "    <tr>\n",
       "      <th>4</th>\n",
       "      <td>75</td>\n",
       "      <td>0</td>\n",
       "      <td>166.7</td>\n",
       "      <td>148.3</td>\n",
       "      <td>186.9</td>\n",
       "      <td>10.1</td>\n",
       "      <td>3</td>\n",
       "      <td>0</td>\n",
       "      <td>1</td>\n",
       "      <td>0</td>\n",
       "      <td>...</td>\n",
       "      <td>28.34</td>\n",
       "      <td>122</td>\n",
       "      <td>12.61</td>\n",
       "      <td>121</td>\n",
       "      <td>8.41</td>\n",
       "      <td>3</td>\n",
       "      <td>2.73</td>\n",
       "      <td>0</td>\n",
       "      <td>415</td>\n",
       "      <td>330-6626</td>\n",
       "    </tr>\n",
       "  </tbody>\n",
       "</table>\n",
       "<p>5 rows × 21 columns</p>\n",
       "</div>"
      ],
      "text/plain": [
       "   Account_Length  Vmail_Message  Day_Mins  Eve_Mins  Night_Mins  Intl_Mins  \\\n",
       "0             128             25     265.1     197.4       244.7       10.0   \n",
       "1             107             26     161.6     195.5       254.4       13.7   \n",
       "2             137              0     243.4     121.2       162.6       12.2   \n",
       "3              84              0     299.4      61.9       196.9        6.6   \n",
       "4              75              0     166.7     148.3       186.9       10.1   \n",
       "\n",
       "   CustServ_Calls  Churn  Intl_Plan  Vmail_Plan  ...  Day_Charge  Eve_Calls  \\\n",
       "0               1      0          0           1  ...       45.07         99   \n",
       "1               1      0          0           1  ...       27.47        103   \n",
       "2               0      0          0           0  ...       41.38        110   \n",
       "3               2      0          1           0  ...       50.90         88   \n",
       "4               3      0          1           0  ...       28.34        122   \n",
       "\n",
       "   Eve_Charge  Night_Calls  Night_Charge  Intl_Calls  Intl_Charge  State  \\\n",
       "0       16.78           91         11.01           3         2.70      0   \n",
       "1       16.62          103         11.45           3         3.70      0   \n",
       "2       10.30          104          7.32           5         3.29      0   \n",
       "3        5.26           89          8.86           7         1.78      0   \n",
       "4       12.61          121          8.41           3         2.73      0   \n",
       "\n",
       "   Area_Code     Phone  \n",
       "0        415  382-4657  \n",
       "1        415  371-7191  \n",
       "2        415  358-1921  \n",
       "3        408  375-9999  \n",
       "4        415  330-6626  \n",
       "\n",
       "[5 rows x 21 columns]"
      ]
     },
     "execution_count": 17,
     "metadata": {},
     "output_type": "execute_result"
    }
   ],
   "source": [
    "telco.head()"
   ]
  },
  {
   "cell_type": "code",
   "execution_count": 18,
   "metadata": {},
   "outputs": [
    {
     "name": "stdout",
     "output_type": "stream",
     "text": [
      "      Account_Length  Vmail_Message  Day_Mins  Eve_Mins  Night_Mins  \\\n",
      "0                128             25     265.1     197.4       244.7   \n",
      "1                107             26     161.6     195.5       254.4   \n",
      "2                137              0     243.4     121.2       162.6   \n",
      "3                 84              0     299.4      61.9       196.9   \n",
      "4                 75              0     166.7     148.3       186.9   \n",
      "...              ...            ...       ...       ...         ...   \n",
      "3328             192             36     156.2     215.5       279.1   \n",
      "3329              68              0     231.1     153.4       191.3   \n",
      "3330              28              0     180.8     288.8       191.9   \n",
      "3331             184              0     213.8     159.6       139.2   \n",
      "3332              74             25     234.4     265.9       241.4   \n",
      "\n",
      "      Intl_Mins  CustServ_Calls  Churn  Intl_Plan  Vmail_Plan  Day_Calls  \\\n",
      "0          10.0               1      0          0           1        110   \n",
      "1          13.7               1      0          0           1        123   \n",
      "2          12.2               0      0          0           0        114   \n",
      "3           6.6               2      0          1           0         71   \n",
      "4          10.1               3      0          1           0        113   \n",
      "...         ...             ...    ...        ...         ...        ...   \n",
      "3328        9.9               2      0          0           1         77   \n",
      "3329        9.6               3      0          0           0         57   \n",
      "3330       14.1               2      0          0           0        109   \n",
      "3331        5.0               2      0          1           0        105   \n",
      "3332       13.7               0      0          0           1        113   \n",
      "\n",
      "      Day_Charge  Eve_Calls  Eve_Charge  Night_Calls  Night_Charge  \\\n",
      "0          45.07         99       16.78           91         11.01   \n",
      "1          27.47        103       16.62          103         11.45   \n",
      "2          41.38        110       10.30          104          7.32   \n",
      "3          50.90         88        5.26           89          8.86   \n",
      "4          28.34        122       12.61          121          8.41   \n",
      "...          ...        ...         ...          ...           ...   \n",
      "3328       26.55        126       18.32           83         12.56   \n",
      "3329       39.29         55       13.04          123          8.61   \n",
      "3330       30.74         58       24.55           91          8.64   \n",
      "3331       36.35         84       13.57          137          6.26   \n",
      "3332       39.85         82       22.60           77         10.86   \n",
      "\n",
      "      Intl_Calls  Intl_Charge  State  \n",
      "0              3         2.70      0  \n",
      "1              3         3.70      0  \n",
      "2              5         3.29      0  \n",
      "3              7         1.78      0  \n",
      "4              3         2.73      0  \n",
      "...          ...          ...    ...  \n",
      "3328           6         2.67      0  \n",
      "3329           4         2.59      0  \n",
      "3330           6         3.81      0  \n",
      "3331          10         1.35      0  \n",
      "3332           4         3.70      0  \n",
      "\n",
      "[3333 rows x 19 columns]\n"
     ]
    }
   ],
   "source": [
    "#Drop the unnecessary features\n",
    "telco = telco.drop(['Area_Code', 'Phone' ], axis=1)\n",
    "print(telco)"
   ]
  },
  {
   "cell_type": "code",
   "execution_count": 19,
   "metadata": {},
   "outputs": [
    {
     "name": "stdout",
     "output_type": "stream",
     "text": [
      "[[ 0.67648946  1.23488274  1.56676695 ... -0.60119509 -0.0856905\n",
      "  -0.12589212]\n",
      " [ 0.14906505  1.30794844 -0.33373776 ... -0.60119509  1.2411686\n",
      "  -0.12589212]\n",
      " [ 0.9025285  -0.59175986  1.16830364 ...  0.21153386  0.69715637\n",
      "  -0.12589212]\n",
      " ...\n",
      " [-1.83505538 -0.59175986  0.01881963 ...  0.61789834  1.3871231\n",
      "  -0.12589212]\n",
      " [ 2.08295458 -0.59175986  0.62477766 ...  2.24335625 -1.87695028\n",
      "  -0.12589212]\n",
      " [-0.67974475  1.23488274  1.00304237 ... -0.19483061  1.2411686\n",
      "  -0.12589212]]\n",
      "                 0             1             2             3             4   \\\n",
      "count  3.333000e+03  3.333000e+03  3.333000e+03  3.333000e+03  3.333000e+03   \n",
      "mean   1.713134e-16  3.832651e-16  7.081711e-16 -1.067919e-16  6.602046e-17   \n",
      "std    1.000150e+00  1.000150e+00  1.000150e+00  1.000150e+00  1.000150e+00   \n",
      "min   -2.513172e+00 -5.917599e-01 -3.301096e+00 -3.963622e+00 -3.513648e+00   \n",
      "25%   -6.797448e-01 -5.917599e-01 -6.624241e-01 -6.780300e-01 -6.698545e-01   \n",
      "50%   -1.627644e-03 -5.917599e-01 -6.887677e-03  8.276141e-03  6.485803e-03   \n",
      "75%    6.513740e-01  8.695542e-01  6.725198e-01  6.768330e-01  6.808485e-01   \n",
      "max    3.564766e+00  3.134591e+00  3.140422e+00  3.209066e+00  3.839081e+00   \n",
      "\n",
      "                 5             6             7             8             9   \\\n",
      "count  3.333000e+03  3.333000e+03  3.333000e+03  3.333000e+03  3.333000e+03   \n",
      "mean  -3.274375e-16  3.275708e-16 -5.176377e-17 -1.021951e-16  6.921823e-17   \n",
      "std    1.000150e+00  1.000150e+00  1.000150e+00  1.000150e+00  1.000150e+00   \n",
      "min   -3.667413e+00 -1.188218e+00 -4.116718e-01 -3.275805e-01 -6.183963e-01   \n",
      "25%   -6.223690e-01 -4.279320e-01 -4.116718e-01 -3.275805e-01 -6.183963e-01   \n",
      "50%    2.246393e-02 -4.279320e-01 -4.116718e-01 -3.275805e-01 -6.183963e-01   \n",
      "75%    6.672969e-01  3.323545e-01 -4.116718e-01 -3.275805e-01  1.617086e+00   \n",
      "max    3.497397e+00  5.654360e+00  2.429119e+00  3.052685e+00  1.617086e+00   \n",
      "\n",
      "                 10            11            12            13            14  \\\n",
      "count  3.333000e+03  3.333000e+03  3.333000e+03  3.333000e+03  3.333000e+03   \n",
      "mean  -2.150828e-16 -3.226409e-16  3.527531e-16  1.266447e-16 -7.041739e-17   \n",
      "std    1.000150e+00  1.000150e+00  1.000150e+00  1.000150e+00  1.000150e+00   \n",
      "min   -5.005247e+00 -3.301162e+00 -5.025911e+00 -3.963679e+00 -3.429870e+00   \n",
      "25%   -6.695701e-01 -6.623760e-01 -6.583610e-01 -6.783123e-01 -6.699340e-01   \n",
      "50%    2.812491e-02 -6.730063e-03 -5.738630e-03  8.459274e-03 -5.505089e-03   \n",
      "75%    6.759846e-01  6.726790e-01  6.970854e-01  6.766695e-01  6.589239e-01   \n",
      "max    3.217588e+00  3.140803e+00  3.508382e+00  3.207980e+00  3.827739e+00   \n",
      "\n",
      "                 15            16            17            18  \n",
      "count  3.333000e+03  3.333000e+03  3.333000e+03  3.333000e+03  \n",
      "mean  -3.134473e-17 -1.264615e-16  2.785384e-16 -2.344859e-16  \n",
      "std    1.000150e+00  1.000150e+00  1.000150e+00  1.000150e+00  \n",
      "min   -3.515366e+00 -1.820289e+00 -3.668210e+00 -1.258921e-01  \n",
      "25%   -6.676792e-01 -6.011951e-01 -6.164341e-01 -1.258921e-01  \n",
      "50%    4.691242e-03 -1.948306e-01  2.045823e-02 -1.258921e-01  \n",
      "75%    6.814562e-01  6.178983e-01  6.706192e-01 -1.258921e-01  \n",
      "max    3.836763e+00  6.307001e+00  3.496829e+00  7.943309e+00  \n"
     ]
    }
   ],
   "source": [
    "# Import StandardScaler\n",
    "from sklearn.preprocessing import StandardScaler\n",
    "telco.head()\n",
    "# Scale telco using StandardScaler\n",
    "telco_scaled = StandardScaler().fit_transform(telco)\n",
    "\n",
    "print(telco_scaled)\n",
    "\n",
    "# Add column names back for readability\n",
    "telco_scaled_df = pd.DataFrame(telco_scaled)\n",
    "#telco_scaled_df = pd.DataFrame(telco_scaled, columns=['Intl_Calls', 'Night_Mins'])\n",
    "\n",
    "# Print summary statistics\n",
    "print(telco_scaled_df.describe())\n",
    "\n"
   ]
  },
  {
   "cell_type": "code",
   "execution_count": 20,
   "metadata": {},
   "outputs": [
    {
     "name": "stdout",
     "output_type": "stream",
     "text": [
      "Index(['Account_Length', 'Vmail_Message', 'Day_Mins', 'Eve_Mins', 'Night_Mins',\n",
      "       'Intl_Mins', 'CustServ_Calls', 'Churn', 'Intl_Plan', 'Vmail_Plan',\n",
      "       'Day_Calls', 'Day_Charge', 'Eve_Calls', 'Eve_Charge', 'Night_Calls',\n",
      "       'Night_Charge', 'Intl_Calls', 'Intl_Charge', 'State'],\n",
      "      dtype='object')\n"
     ]
    }
   ],
   "source": [
    "# Verify dropped features\n",
    "print(telco.columns)"
   ]
  },
  {
   "cell_type": "code",
   "execution_count": 21,
   "metadata": {},
   "outputs": [
    {
     "name": "stdout",
     "output_type": "stream",
     "text": [
      "0    2.689011\n",
      "1    2.469903\n",
      "2    1.563462\n",
      "3    2.212360\n",
      "4    1.544628\n",
      "Name: Avg_Night_Calls, dtype: float64\n"
     ]
    }
   ],
   "source": [
    "# Create the new feature\n",
    "telco['Avg_Night_Calls'] = telco['Night_Mins']/telco['Night_Calls']\n",
    "\n",
    "# Print the first five rows of 'Avg_Night_Calls'\n",
    "print(telco['Avg_Night_Calls'].head(5))"
   ]
  },
  {
   "cell_type": "code",
   "execution_count": 22,
   "metadata": {},
   "outputs": [
    {
     "name": "stdout",
     "output_type": "stream",
     "text": [
      "      Account_Length  Vmail_Message  Day_Mins  Eve_Mins  Night_Mins  \\\n",
      "0                128             25     265.1     197.4       244.7   \n",
      "1                107             26     161.6     195.5       254.4   \n",
      "2                137              0     243.4     121.2       162.6   \n",
      "3                 84              0     299.4      61.9       196.9   \n",
      "4                 75              0     166.7     148.3       186.9   \n",
      "...              ...            ...       ...       ...         ...   \n",
      "3328             192             36     156.2     215.5       279.1   \n",
      "3329              68              0     231.1     153.4       191.3   \n",
      "3330              28              0     180.8     288.8       191.9   \n",
      "3331             184              0     213.8     159.6       139.2   \n",
      "3332              74             25     234.4     265.9       241.4   \n",
      "\n",
      "      Intl_Mins  CustServ_Calls  Intl_Plan  Vmail_Plan  Day_Calls  Day_Charge  \\\n",
      "0          10.0               1          0           1        110       45.07   \n",
      "1          13.7               1          0           1        123       27.47   \n",
      "2          12.2               0          0           0        114       41.38   \n",
      "3           6.6               2          1           0         71       50.90   \n",
      "4          10.1               3          1           0        113       28.34   \n",
      "...         ...             ...        ...         ...        ...         ...   \n",
      "3328        9.9               2          0           1         77       26.55   \n",
      "3329        9.6               3          0           0         57       39.29   \n",
      "3330       14.1               2          0           0        109       30.74   \n",
      "3331        5.0               2          1           0        105       36.35   \n",
      "3332       13.7               0          0           1        113       39.85   \n",
      "\n",
      "      Eve_Calls  Eve_Charge  Night_Calls  Night_Charge  Intl_Calls  \\\n",
      "0            99       16.78           91         11.01           3   \n",
      "1           103       16.62          103         11.45           3   \n",
      "2           110       10.30          104          7.32           5   \n",
      "3            88        5.26           89          8.86           7   \n",
      "4           122       12.61          121          8.41           3   \n",
      "...         ...         ...          ...           ...         ...   \n",
      "3328        126       18.32           83         12.56           6   \n",
      "3329         55       13.04          123          8.61           4   \n",
      "3330         58       24.55           91          8.64           6   \n",
      "3331         84       13.57          137          6.26          10   \n",
      "3332         82       22.60           77         10.86           4   \n",
      "\n",
      "      Intl_Charge  State  Avg_Night_Calls  \n",
      "0            2.70      0         2.689011  \n",
      "1            3.70      0         2.469903  \n",
      "2            3.29      0         1.563462  \n",
      "3            1.78      0         2.212360  \n",
      "4            2.73      0         1.544628  \n",
      "...           ...    ...              ...  \n",
      "3328         2.67      0         3.362651  \n",
      "3329         2.59      0         1.555285  \n",
      "3330         3.81      0         2.108791  \n",
      "3331         1.35      0         1.016058  \n",
      "3332         3.70      0         3.135065  \n",
      "\n",
      "[3333 rows x 19 columns]\n"
     ]
    }
   ],
   "source": [
    "telco1=telco.drop(['Churn' ], axis=1)\n",
    "print(telco1)\n",
    "#telco2= telco1.iloc[1]\n",
    "#print(telco2)"
   ]
  },
  {
   "cell_type": "code",
   "execution_count": 23,
   "metadata": {},
   "outputs": [
    {
     "name": "stdout",
     "output_type": "stream",
     "text": [
      "[0 0 0 ... 0 0 0]\n"
     ]
    },
    {
     "name": "stderr",
     "output_type": "stream",
     "text": [
      "C:\\Users\\HP\\AppData\\Roaming\\Python\\Python37\\site-packages\\sklearn\\linear_model\\_logistic.py:764: ConvergenceWarning: lbfgs failed to converge (status=1):\n",
      "STOP: TOTAL NO. of ITERATIONS REACHED LIMIT.\n",
      "\n",
      "Increase the number of iterations (max_iter) or scale the data as shown in:\n",
      "    https://scikit-learn.org/stable/modules/preprocessing.html\n",
      "Please also refer to the documentation for alternative solver options:\n",
      "    https://scikit-learn.org/stable/modules/linear_model.html#logistic-regression\n",
      "  extra_warning_msg=_LOGISTIC_SOLVER_CONVERGENCE_MSG)\n"
     ]
    }
   ],
   "source": [
    "# Import LogisticRegression\n",
    "\n",
    "\n",
    "from sklearn.linear_model import LogisticRegression\n",
    "from sklearn.metrics import classification_report, confusion_matrix\n",
    "# Instantiate the classifier\n",
    "clf= LogisticRegression()\n",
    "# Fit the classifier\n",
    "clf.fit(telco1, telco['Churn'])\n",
    "# Predict the label of new_customer\n",
    "print(clf.predict(telco1))"
   ]
  },
  {
   "cell_type": "code",
   "execution_count": 24,
   "metadata": {},
   "outputs": [
    {
     "name": "stdout",
     "output_type": "stream",
     "text": [
      "[0 0 0 ... 0 0 0]\n"
     ]
    }
   ],
   "source": [
    "# Import DecisionTreeClassifier\n",
    "from sklearn.tree import DecisionTreeClassifier\n",
    "\n",
    "# Instantiate the classifier\n",
    "clf= DecisionTreeClassifier()\n",
    "\n",
    "# Fit the classifier\n",
    "clf.fit(telco1, telco['Churn'])\n",
    "\n",
    "# Predict the label of new_customer\n",
    "print(clf.predict(telco1))"
   ]
  },
  {
   "cell_type": "code",
   "execution_count": 25,
   "metadata": {},
   "outputs": [],
   "source": [
    "# Import train_test_split\n",
    "from sklearn.model_selection import train_test_split"
   ]
  },
  {
   "cell_type": "code",
   "execution_count": 26,
   "metadata": {},
   "outputs": [],
   "source": [
    "# Create feature variable\n",
    "X = telco.drop('Churn', axis=1)\n",
    "# Create target variable\n",
    "y = telco['Churn']"
   ]
  },
  {
   "cell_type": "code",
   "execution_count": 27,
   "metadata": {},
   "outputs": [],
   "source": [
    "# Create training and testing sets\n",
    "X_train, X_test, y_train, y_test= train_test_split(X,y,test_size=0.3)"
   ]
  },
  {
   "cell_type": "code",
   "execution_count": 28,
   "metadata": {},
   "outputs": [
    {
     "name": "stdout",
     "output_type": "stream",
     "text": [
      "0.952\n"
     ]
    }
   ],
   "source": [
    "# Import RandomForestClassifier\n",
    "from sklearn.ensemble import RandomForestClassifier\n",
    "\n",
    "# Instantiate the classifier\n",
    "clf = RandomForestClassifier()\n",
    "\n",
    "# Fit to the training data\n",
    "clf.fit(X_train, y_train)\n",
    "\n",
    "# Compute accuracy\n",
    "print(clf.score(X_test, y_test))"
   ]
  },
  {
   "cell_type": "code",
   "execution_count": 29,
   "metadata": {},
   "outputs": [
    {
     "name": "stdout",
     "output_type": "stream",
     "text": [
      "[[851   5]\n",
      " [ 43 101]]\n"
     ]
    }
   ],
   "source": [
    "# Import confusion_matrix\n",
    "from sklearn.metrics import confusion_matrix\n",
    "y_pred=clf.predict(X_test)\n",
    "# Print the confusion matrix\n",
    "print(confusion_matrix(y_test, y_pred))"
   ]
  },
  {
   "cell_type": "code",
   "execution_count": 30,
   "metadata": {},
   "outputs": [],
   "source": [
    "# Import train_test_split\n",
    "from sklearn.model_selection import train_test_split\n",
    "\n",
    "# Create feature variable\n",
    "X = telco.drop('Churn', axis=1)\n",
    "\n",
    "# Create target variable\n",
    "y = telco['Churn']\n",
    "\n",
    "# Create training and testing sets\n",
    "X_train, X_test, y_train, y_test = train_test_split(X,y,test_size=0.2)"
   ]
  },
  {
   "cell_type": "code",
   "execution_count": 31,
   "metadata": {},
   "outputs": [
    {
     "name": "stdout",
     "output_type": "stream",
     "text": [
      "[[562   6]\n",
      " [ 28  71]]\n"
     ]
    }
   ],
   "source": [
    "# Import RandomForestClassifier\n",
    "from sklearn.ensemble import RandomForestClassifier\n",
    "\n",
    "# Instantiate the classifier\n",
    "clf = RandomForestClassifier()\n",
    "\n",
    "# Fit to the training data\n",
    "clf.fit(X_train, y_train)\n",
    "\n",
    "# Predict the labels of the test set\n",
    "y_pred = clf.predict(X_test)\n",
    "\n",
    "# Import confusion_matrix\n",
    "from sklearn.metrics import confusion_matrix\n",
    "\n",
    "# Print confusion matrix\n",
    "print(confusion_matrix(y_test,y_pred))"
   ]
  },
  {
   "cell_type": "code",
   "execution_count": 32,
   "metadata": {},
   "outputs": [
    {
     "name": "stdout",
     "output_type": "stream",
     "text": [
      "0.9705882352941176\n"
     ]
    }
   ],
   "source": [
    "\n",
    "# Import train_test_split\n",
    "from sklearn.model_selection import train_test_split\n",
    "\n",
    "# Create feature variable\n",
    "X = telco.drop('Churn', axis=1)\n",
    "\n",
    "# Create target variable\n",
    "y = telco['Churn']\n",
    "\n",
    "# Create training and testing sets\n",
    "X_train, X_test, y_train, y_test = train_test_split(X, y, test_size=0.1)\n",
    "\n",
    "# Import RandomForestClassifier\n",
    "from sklearn.ensemble import RandomForestClassifier\n",
    "\n",
    "# Instantiate the classifier\n",
    "clf = RandomForestClassifier()\n",
    "\n",
    "# Fit to the training data\n",
    "clf.fit(X_train, y_train)\n",
    "\n",
    "# Predict the labels of the test set\n",
    "y_pred = clf.predict(X_test)\n",
    "\n",
    "# Import precision_score\n",
    "from sklearn.metrics import precision_score\n",
    "# Print the precision\n",
    "print(precision_score(y_test, y_pred))"
   ]
  },
  {
   "cell_type": "code",
   "execution_count": 33,
   "metadata": {},
   "outputs": [
    {
     "name": "stdout",
     "output_type": "stream",
     "text": [
      "0.68\n"
     ]
    }
   ],
   "source": [
    "# Import train_test_split\n",
    "from sklearn.model_selection import train_test_split\n",
    "\n",
    "# Create feature variable\n",
    "X = telco.drop('Churn', axis=1)\n",
    "\n",
    "# Create target variable\n",
    "y = telco['Churn']\n",
    "\n",
    "# Create training and testing sets\n",
    "X_train, X_test, y_train, y_test = train_test_split(X, y, test_size=0.1)\n",
    "\n",
    "# Import RandomForestClassifier\n",
    "from sklearn.ensemble import RandomForestClassifier\n",
    "\n",
    "# Instantiate the classifier\n",
    "clf = RandomForestClassifier()\n",
    "\n",
    "# Fit to the training data\n",
    "clf.fit(X_train, y_train)\n",
    "\n",
    "# Predict the labels of the test set\n",
    "y_pred = clf.predict(X_test)\n",
    "\n",
    "# Import recall_score\n",
    "from sklearn.metrics import recall_score\n",
    "\n",
    "# Print the recall\n",
    "print(recall_score(y_test, y_pred))"
   ]
  },
  {
   "cell_type": "code",
   "execution_count": 34,
   "metadata": {},
   "outputs": [
    {
     "data": {
      "image/png": "[encoded data removed]",
      "text/plain": [
       "<Figure size 432x288 with 1 Axes>"
      ]
     },
     "metadata": {
      "needs_background": "light"
     },
     "output_type": "display_data"
    }
   ],
   "source": [
    "# Generate the probabilities\n",
    "y_pred_prob = clf.predict_proba(X_test)[:, 1]\n",
    "\n",
    "# Import roc_curve\n",
    "from sklearn.metrics import roc_curve\n",
    "\n",
    "# Calculate the roc metrics\n",
    "fpr, tpr, thresholds = roc_curve(y_test, y_pred_prob)\n",
    "\n",
    "# Plot the ROC curve\n",
    "plt.plot(fpr,tpr)\n",
    "# Add labels and diagonal line\n",
    "plt.xlabel(\"False Positive Rate\")\n",
    "plt.ylabel(\"True Positive Rate\")\n",
    "plt.plot([0, 1], [0, 1], \"k--\")\n",
    "plt.show()"
   ]
  },
  {
   "cell_type": "code",
   "execution_count": 35,
   "metadata": {},
   "outputs": [
    {
     "name": "stdout",
     "output_type": "stream",
     "text": [
      "0.874612676056338\n"
     ]
    }
   ],
   "source": [
    "# Import roc_auc_score\n",
    "from sklearn.metrics import roc_auc_score\n",
    "\n",
    "# Print the AUC\n",
    "print(roc_auc_score(y_test, y_pred_prob))\n",
    "#This indicates that this baseline random forest classifier is quite good!"
   ]
  },
  {
   "cell_type": "code",
   "execution_count": 36,
   "metadata": {},
   "outputs": [
    {
     "name": "stdout",
     "output_type": "stream",
     "text": [
      "0.8\n"
     ]
    }
   ],
   "source": [
    "# Instantiate the classifier\n",
    "clf = RandomForestClassifier()\n",
    "\n",
    "# Fit to the training data\n",
    "clf.fit(X_train, y_train)\n",
    "\n",
    "# Predict the labels of the test set\n",
    "y_pred = clf.predict(X_test)\n",
    "\n",
    "# Import f1_score\n",
    "from sklearn.metrics import f1_score\n",
    "\n",
    "# Print the F1 score\n",
    "print(f1_score(y_test, y_pred))"
   ]
  }
 ],
 "metadata": {
  "kernelspec": {
   "display_name": "Python 3",
   "language": "python",
   "name": "python3"
  },
  "language_info": {
   "codemirror_mode": {
    "name": "ipython",
    "version": 3
   },
   "file_extension": ".py",
   "mimetype": "text/x-python",
   "name": "python",
   "nbconvert_exporter": "python",
   "pygments_lexer": "ipython3",
   "version": "3.7.4"
  }
 },
 "nbformat": 4,
 "nbformat_minor": 2
}
